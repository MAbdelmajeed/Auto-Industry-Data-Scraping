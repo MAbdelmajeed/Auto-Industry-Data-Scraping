{
 "cells": [
  {
   "cell_type": "code",
   "execution_count": 127,
   "id": "88754ad4",
   "metadata": {
    "ExecuteTime": {
     "end_time": "2023-11-16T20:03:25.284313Z",
     "start_time": "2023-11-16T20:03:25.277321Z"
    }
   },
   "outputs": [],
   "source": [
    "# loading libraries\n",
    "from bs4 import BeautifulSoup\n",
    "import requests\n",
    "import pandas as pd \n",
    "import time\n",
    "from IPython.display import FileLink"
   ]
  },
  {
   "cell_type": "code",
   "execution_count": 241,
   "id": "a45b6408",
   "metadata": {
    "ExecuteTime": {
     "end_time": "2023-11-16T23:04:50.661352Z",
     "start_time": "2023-11-16T23:04:50.489695Z"
    }
   },
   "outputs": [
    {
     "data": {
      "text/plain": [
       "200"
      ]
     },
     "execution_count": 241,
     "metadata": {},
     "output_type": "execute_result"
    }
   ],
   "source": [
    "# Defining the target link:\n",
    "website ='https://www.autobranche.org/category/fahrschulen-verzeichnis/'\n",
    "response = requests.get(website)\n",
    "response.status_code"
   ]
  },
  {
   "cell_type": "code",
   "execution_count": 242,
   "id": "b5b8a2a9",
   "metadata": {
    "ExecuteTime": {
     "end_time": "2023-11-16T23:04:51.192698Z",
     "start_time": "2023-11-16T23:04:51.149150Z"
    }
   },
   "outputs": [],
   "source": [
    "soup = BeautifulSoup(response.content, 'html.parser')\n",
    "results = soup.find_all('article', {'itemtype': 'https://schema.org/CreativeWork'})\n"
   ]
  },
  {
   "cell_type": "code",
   "execution_count": 243,
   "id": "8a786ac3",
   "metadata": {
    "ExecuteTime": {
     "end_time": "2023-11-16T23:04:51.908007Z",
     "start_time": "2023-11-16T23:04:51.893067Z"
    }
   },
   "outputs": [
    {
     "data": {
      "text/plain": [
       "20"
      ]
     },
     "execution_count": 243,
     "metadata": {},
     "output_type": "execute_result"
    }
   ],
   "source": [
    "len(results)"
   ]
  },
  {
   "cell_type": "markdown",
   "id": "08632726",
   "metadata": {},
   "source": [
    "## School_Name"
   ]
  },
  {
   "cell_type": "code",
   "execution_count": 244,
   "id": "78675676",
   "metadata": {
    "ExecuteTime": {
     "end_time": "2023-11-16T23:04:53.467020Z",
     "start_time": "2023-11-16T23:04:53.451857Z"
    }
   },
   "outputs": [
    {
     "data": {
      "text/plain": [
       "'Fahrschule O & B GmbH'"
      ]
     },
     "execution_count": 244,
     "metadata": {},
     "output_type": "execute_result"
    }
   ],
   "source": [
    "results[0].find('h2', class_='entry-title').get_text(strip=True)"
   ]
  },
  {
   "cell_type": "markdown",
   "id": "cd47a153",
   "metadata": {},
   "source": [
    "## Address_Phone"
   ]
  },
  {
   "cell_type": "code",
   "execution_count": 133,
   "id": "8867063f",
   "metadata": {
    "ExecuteTime": {
     "end_time": "2023-11-16T20:03:28.440385Z",
     "start_time": "2023-11-16T20:03:28.422664Z"
    }
   },
   "outputs": [
    {
     "data": {
      "text/plain": [
       "'Beschreibung: Adresse: Rodemannstr. 11 99974 Mühlhausen /Thüringen Telefon: 03601 872286'"
      ]
     },
     "execution_count": 133,
     "metadata": {},
     "output_type": "execute_result"
    }
   ],
   "source": [
    "results[0].find('div', class_='entry-summary').get_text(strip=True)"
   ]
  },
  {
   "cell_type": "markdown",
   "id": "68c8bbe5",
   "metadata": {},
   "source": [
    "## City"
   ]
  },
  {
   "cell_type": "code",
   "execution_count": 134,
   "id": "4192574b",
   "metadata": {
    "ExecuteTime": {
     "end_time": "2023-11-16T20:03:29.217931Z",
     "start_time": "2023-11-16T20:03:29.209934Z"
    }
   },
   "outputs": [
    {
     "name": "stdout",
     "output_type": "stream",
     "text": [
      "Mühlhausen /Thüringen\n"
     ]
    }
   ],
   "source": [
    "City = results[0].find('span', class_='tags-links').get_text(strip=True) \n",
    "City_cleaned = City.replace('Schlagwörter', '').strip()\n",
    "print(City_cleaned)"
   ]
  },
  {
   "cell_type": "code",
   "execution_count": 135,
   "id": "56966dd6",
   "metadata": {
    "ExecuteTime": {
     "end_time": "2023-11-16T20:03:29.544319Z",
     "start_time": "2023-11-16T20:03:29.536277Z"
    }
   },
   "outputs": [
    {
     "data": {
      "text/plain": [
       "'Mühlhausen /Thüringen'"
      ]
     },
     "execution_count": 135,
     "metadata": {},
     "output_type": "execute_result"
    }
   ],
   "source": [
    "results[0].find('span', class_='tags-links').get_text(strip=True).replace('Schlagwörter', '').strip()\n",
    "\n"
   ]
  },
  {
   "cell_type": "markdown",
   "id": "aff23d11",
   "metadata": {},
   "source": [
    "# Putting Everything together"
   ]
  },
  {
   "cell_type": "code",
   "execution_count": 136,
   "id": "c74c62b4",
   "metadata": {
    "ExecuteTime": {
     "end_time": "2023-11-16T20:03:30.295623Z",
     "start_time": "2023-11-16T20:03:30.285624Z"
    }
   },
   "outputs": [],
   "source": [
    "School_Name = []\n",
    "Address_Phone = []\n",
    "City = []\n",
    "\n",
    "for result in results:\n",
    "    #School_Name\n",
    "    try:\n",
    "        School_Name.append(result.find('h2', class_='entry-title').get_text(strip=True))\n",
    "    except:\n",
    "        School_Name.append('n/a')\n",
    "  \n",
    "\n",
    "    #Address_Phone\n",
    "    try:\n",
    "        Address_Phone.append(result.find('div', class_='entry-summary').get_text(strip=True))\n",
    "    except:\n",
    "        Address_Phone.append('n/a')\n",
    "        \n",
    "    #City\n",
    "    try:\n",
    "        City.append(result.find('span', class_='tags-links').get_text(strip=True).replace('Schlagwörter', '').strip())\n",
    "    except:\n",
    "        City.append('n/a')"
   ]
  },
  {
   "cell_type": "markdown",
   "id": "65e9032f",
   "metadata": {},
   "source": [
    "### Create Pandas Dataframe"
   ]
  },
  {
   "cell_type": "code",
   "execution_count": 137,
   "id": "fcf732e3",
   "metadata": {
    "ExecuteTime": {
     "end_time": "2023-11-16T20:03:31.128397Z",
     "start_time": "2023-11-16T20:03:31.114924Z"
    }
   },
   "outputs": [],
   "source": [
    "# dictionary\n",
    "Driving_Schools_Spage = pd.DataFrame({'School_Name': School_Name, 'Address_Phone':Address_Phone, 'City':City})"
   ]
  },
  {
   "cell_type": "code",
   "execution_count": 245,
   "id": "430e3dc2",
   "metadata": {
    "ExecuteTime": {
     "end_time": "2023-11-16T23:05:20.856721Z",
     "start_time": "2023-11-16T23:05:20.831877Z"
    }
   },
   "outputs": [
    {
     "data": {
      "text/html": [
       "<div>\n",
       "<style scoped>\n",
       "    .dataframe tbody tr th:only-of-type {\n",
       "        vertical-align: middle;\n",
       "    }\n",
       "\n",
       "    .dataframe tbody tr th {\n",
       "        vertical-align: top;\n",
       "    }\n",
       "\n",
       "    .dataframe thead th {\n",
       "        text-align: right;\n",
       "    }\n",
       "</style>\n",
       "<table border=\"1\" class=\"dataframe\">\n",
       "  <thead>\n",
       "    <tr style=\"text-align: right;\">\n",
       "      <th></th>\n",
       "      <th>School_Name</th>\n",
       "      <th>Address_Phone</th>\n",
       "      <th>City</th>\n",
       "    </tr>\n",
       "  </thead>\n",
       "  <tbody>\n",
       "    <tr>\n",
       "      <th>15</th>\n",
       "      <td>Bernhard Kiel</td>\n",
       "      <td>Beschreibung: Adresse: Pfarrer-Bonhoeffer-Str....</td>\n",
       "      <td>Schlotheim</td>\n",
       "    </tr>\n",
       "    <tr>\n",
       "      <th>16</th>\n",
       "      <td>Uwe Rücker</td>\n",
       "      <td>Beschreibung: u. Karsta Fahrschule Adresse: Am...</td>\n",
       "      <td>Mühlhausen /Thüringen</td>\n",
       "    </tr>\n",
       "    <tr>\n",
       "      <th>17</th>\n",
       "      <td>Friedrich Schreff</td>\n",
       "      <td>Beschreibung: Adresse: Unterdorf 4 99996 Mente...</td>\n",
       "      <td>Menteroda</td>\n",
       "    </tr>\n",
       "    <tr>\n",
       "      <th>18</th>\n",
       "      <td>Hans-Georg Swars</td>\n",
       "      <td>Beschreibung: Adresse: Grünstr. 39 99974 Mühlh...</td>\n",
       "      <td>Mühlhausen /Thüringen</td>\n",
       "    </tr>\n",
       "    <tr>\n",
       "      <th>19</th>\n",
       "      <td>Klaus Weidner</td>\n",
       "      <td>Beschreibung: Adresse: Thomas-Müntzer-Str. 13 ...</td>\n",
       "      <td>Ohrdruf</td>\n",
       "    </tr>\n",
       "  </tbody>\n",
       "</table>\n",
       "</div>"
      ],
      "text/plain": [
       "          School_Name                                      Address_Phone  \\\n",
       "15      Bernhard Kiel  Beschreibung: Adresse: Pfarrer-Bonhoeffer-Str....   \n",
       "16         Uwe Rücker  Beschreibung: u. Karsta Fahrschule Adresse: Am...   \n",
       "17  Friedrich Schreff  Beschreibung: Adresse: Unterdorf 4 99996 Mente...   \n",
       "18   Hans-Georg Swars  Beschreibung: Adresse: Grünstr. 39 99974 Mühlh...   \n",
       "19      Klaus Weidner  Beschreibung: Adresse: Thomas-Müntzer-Str. 13 ...   \n",
       "\n",
       "                     City  \n",
       "15             Schlotheim  \n",
       "16  Mühlhausen /Thüringen  \n",
       "17              Menteroda  \n",
       "18  Mühlhausen /Thüringen  \n",
       "19                Ohrdruf  "
      ]
     },
     "execution_count": 245,
     "metadata": {},
     "output_type": "execute_result"
    }
   ],
   "source": [
    "Driving_Schools_Spage.tail()"
   ]
  },
  {
   "cell_type": "markdown",
   "id": "a97720e9",
   "metadata": {},
   "source": [
    "### Pagination"
   ]
  },
  {
   "cell_type": "code",
   "execution_count": 139,
   "id": "e6902c62",
   "metadata": {
    "ExecuteTime": {
     "end_time": "2023-11-16T20:25:15.842911Z",
     "start_time": "2023-11-16T20:03:35.322100Z"
    }
   },
   "outputs": [],
   "source": [
    "School_Name = []\n",
    "Address_Phone = []\n",
    "City = []\n",
    "\n",
    "for i in range(1, 594):  # We have 593 pages\n",
    "    \n",
    "    # Constructing the website URL correctly\n",
    "    website = 'https://www.autobranche.org/category/fahrschulen-verzeichnis/page/' + str(i) + '/'\n",
    "    \n",
    "    # Request to website\n",
    "    response = requests.get(website)\n",
    "\n",
    "    # Soup object\n",
    "    soup = BeautifulSoup(response.content, 'html.parser')\n",
    "    \n",
    "    # Results\n",
    "    results = soup.find_all('article', {'itemtype': 'https://schema.org/CreativeWork'})\n",
    "    \n",
    "    # Loop through results\n",
    "    for result in results:\n",
    "        \n",
    "        # School_Name\n",
    "        try:\n",
    "            School_Name.append(result.find('h2', class_='entry-title').get_text(strip=True))\n",
    "        except:\n",
    "            School_Name.append('n/a')\n",
    "  \n",
    "        # Address_Phone\n",
    "        try:\n",
    "            Address_Phone.append(result.find('div', class_='entry-summary').get_text(strip=True))\n",
    "        except:\n",
    "            Address_Phone.append('n/a')\n",
    "        \n",
    "        # City\n",
    "        try:\n",
    "            City.append(result.find('span', class_='tags-links').get_text(strip=True).replace('Schlagwörter', '').strip())\n",
    "        except:\n",
    "            City.append('n/a')\n",
    "            \n",
    "   # Pause execution for 2 seconds after scraping each page\n",
    "    time.sleep(2)\n"
   ]
  },
  {
   "cell_type": "code",
   "execution_count": 140,
   "id": "5a7e3fd6",
   "metadata": {
    "ExecuteTime": {
     "end_time": "2023-11-16T20:25:15.858879Z",
     "start_time": "2023-11-16T20:25:15.845916Z"
    }
   },
   "outputs": [],
   "source": [
    "# dictionary\n",
    "Driving_Schools_Mpages = pd.DataFrame({'School_Name': School_Name, 'Address_Phone':Address_Phone, 'City':City})"
   ]
  },
  {
   "cell_type": "code",
   "execution_count": 154,
   "id": "5cf1dfea",
   "metadata": {
    "ExecuteTime": {
     "end_time": "2023-11-16T22:19:26.640404Z",
     "start_time": "2023-11-16T22:19:26.613238Z"
    },
    "scrolled": true
   },
   "outputs": [
    {
     "data": {
      "text/html": [
       "<div>\n",
       "<style scoped>\n",
       "    .dataframe tbody tr th:only-of-type {\n",
       "        vertical-align: middle;\n",
       "    }\n",
       "\n",
       "    .dataframe tbody tr th {\n",
       "        vertical-align: top;\n",
       "    }\n",
       "\n",
       "    .dataframe thead th {\n",
       "        text-align: right;\n",
       "    }\n",
       "</style>\n",
       "<table border=\"1\" class=\"dataframe\">\n",
       "  <thead>\n",
       "    <tr style=\"text-align: right;\">\n",
       "      <th></th>\n",
       "      <th>School_Name</th>\n",
       "      <th>Address_Phone</th>\n",
       "      <th>City</th>\n",
       "    </tr>\n",
       "  </thead>\n",
       "  <tbody>\n",
       "    <tr>\n",
       "      <th>11851</th>\n",
       "      <td>Fahrschule A.Jaensch Inh. Roland Horn</td>\n",
       "      <td>Beschreibung: Adresse: Trachenberger Str. 14 0...</td>\n",
       "      <td>Dresden</td>\n",
       "    </tr>\n",
       "    <tr>\n",
       "      <th>11852</th>\n",
       "      <td>Auguszt, The Driving Instructor</td>\n",
       "      <td>Beschreibung: Fahrschule Adresse: Bautzner Str...</td>\n",
       "      <td>Dresden</td>\n",
       "    </tr>\n",
       "    <tr>\n",
       "      <th>11853</th>\n",
       "      <td>Fahrschule Lehmann</td>\n",
       "      <td>Beschreibung: Adresse: Franz-Lehmann-Str. 43 0...</td>\n",
       "      <td>Dresden</td>\n",
       "    </tr>\n",
       "    <tr>\n",
       "      <th>11854</th>\n",
       "      <td>Fahrschule Nord Gernot Krakowsky</td>\n",
       "      <td>Beschreibung: Fahrschule Adresse: Bautzner Str...</td>\n",
       "      <td>Dresden</td>\n",
       "    </tr>\n",
       "    <tr>\n",
       "      <th>11855</th>\n",
       "      <td>Fahrschule Inh. Glück Michael</td>\n",
       "      <td>Beschreibung: Adresse: Herbststr. 11 01139 Dre...</td>\n",
       "      <td>Dresden</td>\n",
       "    </tr>\n",
       "  </tbody>\n",
       "</table>\n",
       "</div>"
      ],
      "text/plain": [
       "                                 School_Name  \\\n",
       "11851  Fahrschule A.Jaensch Inh. Roland Horn   \n",
       "11852        Auguszt, The Driving Instructor   \n",
       "11853                     Fahrschule Lehmann   \n",
       "11854       Fahrschule Nord Gernot Krakowsky   \n",
       "11855          Fahrschule Inh. Glück Michael   \n",
       "\n",
       "                                           Address_Phone     City  \n",
       "11851  Beschreibung: Adresse: Trachenberger Str. 14 0...  Dresden  \n",
       "11852  Beschreibung: Fahrschule Adresse: Bautzner Str...  Dresden  \n",
       "11853  Beschreibung: Adresse: Franz-Lehmann-Str. 43 0...  Dresden  \n",
       "11854  Beschreibung: Fahrschule Adresse: Bautzner Str...  Dresden  \n",
       "11855  Beschreibung: Adresse: Herbststr. 11 01139 Dre...  Dresden  "
      ]
     },
     "execution_count": 154,
     "metadata": {},
     "output_type": "execute_result"
    }
   ],
   "source": [
    "Driving_Schools_Mpages.tail(5)"
   ]
  },
  {
   "cell_type": "markdown",
   "id": "b7d7a9c7",
   "metadata": {},
   "source": [
    "### Cleaning the Dataset"
   ]
  },
  {
   "cell_type": "code",
   "execution_count": 247,
   "id": "6f49983a",
   "metadata": {
    "ExecuteTime": {
     "end_time": "2023-11-16T23:06:52.520031Z",
     "start_time": "2023-11-16T23:06:52.510001Z"
    }
   },
   "outputs": [],
   "source": [
    "# Renaming the dataframe:\n",
    "df = Driving_Schools_Mpages.copy()"
   ]
  },
  {
   "cell_type": "code",
   "execution_count": 248,
   "id": "2e50ca87",
   "metadata": {
    "ExecuteTime": {
     "end_time": "2023-11-16T23:06:52.876490Z",
     "start_time": "2023-11-16T23:06:52.840199Z"
    }
   },
   "outputs": [],
   "source": [
    "# Removing the 'Beschreibung: Adresse:' and the 'Beschreibung: Fahrschule Adresse:  from the 'Address_Phone' column:\n",
    "df['Address_Phone'] = df['Address_Phone'].str.replace('Beschreibung: Adresse:', '', regex=False)\n",
    "df['Address_Phone'] = df['Address_Phone'].str.replace('Beschreibung: Fahrschule Adresse:', '', regex=False)\n"
   ]
  },
  {
   "cell_type": "code",
   "execution_count": 249,
   "id": "1c90e018",
   "metadata": {
    "ExecuteTime": {
     "end_time": "2023-11-16T23:06:53.481473Z",
     "start_time": "2023-11-16T23:06:53.408189Z"
    }
   },
   "outputs": [],
   "source": [
    "# Extracting the telefon number from the 'Address_Phone' column and storing it in a new column:\n",
    "df['Telefon_Number'] = df['Address_Phone'].str.extract(r'Telefon: (\\d[\\d\\s]+)')\n",
    "\n",
    "# Extracting the Postal code from the Address_Phone' column and storing it in a new variable:\n",
    "df['Postal_Code'] = df['Address_Phone'].str.extract(r'(\\d{5})')"
   ]
  },
  {
   "cell_type": "code",
   "execution_count": 252,
   "id": "73caabab",
   "metadata": {
    "ExecuteTime": {
     "end_time": "2023-11-16T23:07:34.686650Z",
     "start_time": "2023-11-16T23:07:34.661808Z"
    }
   },
   "outputs": [
    {
     "name": "stderr",
     "output_type": "stream",
     "text": [
      "C:\\Users\\Besitzer\\AppData\\Local\\Temp\\ipykernel_11748\\2784797716.py:2: FutureWarning: The default value of regex will change from True to False in a future version.\n",
      "  df['Address'] = df['Address_Phone'].str.replace(r'Telefon: (\\d[\\d\\s]+)', '')\n"
     ]
    }
   ],
   "source": [
    "# Removing the telefon number from the 'Address_Phone' column:\n",
    "df['Address'] = df['Address_Phone'].str.replace(r'Telefon: (\\d[\\d\\s]+)', '')"
   ]
  },
  {
   "cell_type": "code",
   "execution_count": 253,
   "id": "b28de494",
   "metadata": {
    "ExecuteTime": {
     "end_time": "2023-11-16T23:07:35.372721Z",
     "start_time": "2023-11-16T23:07:35.349144Z"
    }
   },
   "outputs": [],
   "source": [
    "# Dropng the 'Address_Phone' column:\n",
    "df.drop('Address_Phone', axis=1, inplace=True)\n"
   ]
  },
  {
   "cell_type": "code",
   "execution_count": 254,
   "id": "83f7214c",
   "metadata": {
    "ExecuteTime": {
     "end_time": "2023-11-16T23:07:36.710795Z",
     "start_time": "2023-11-16T23:07:36.693425Z"
    }
   },
   "outputs": [
    {
     "data": {
      "text/html": [
       "<div>\n",
       "<style scoped>\n",
       "    .dataframe tbody tr th:only-of-type {\n",
       "        vertical-align: middle;\n",
       "    }\n",
       "\n",
       "    .dataframe tbody tr th {\n",
       "        vertical-align: top;\n",
       "    }\n",
       "\n",
       "    .dataframe thead th {\n",
       "        text-align: right;\n",
       "    }\n",
       "</style>\n",
       "<table border=\"1\" class=\"dataframe\">\n",
       "  <thead>\n",
       "    <tr style=\"text-align: right;\">\n",
       "      <th></th>\n",
       "      <th>School_Name</th>\n",
       "      <th>City</th>\n",
       "      <th>Telefon_Number</th>\n",
       "      <th>Postal_Code</th>\n",
       "      <th>Address</th>\n",
       "    </tr>\n",
       "  </thead>\n",
       "  <tbody>\n",
       "    <tr>\n",
       "      <th>0</th>\n",
       "      <td>Fahrschule O &amp; B GmbH</td>\n",
       "      <td>Mühlhausen /Thüringen</td>\n",
       "      <td>03601 872286</td>\n",
       "      <td>99974</td>\n",
       "      <td>Rodemannstr. 11 99974 Mühlhausen /Thüringen</td>\n",
       "    </tr>\n",
       "    <tr>\n",
       "      <th>1</th>\n",
       "      <td>Joachim Müller</td>\n",
       "      <td>Körner</td>\n",
       "      <td>036025 50311</td>\n",
       "      <td>99998</td>\n",
       "      <td>Hauptstr. 7 99998 Körner</td>\n",
       "    </tr>\n",
       "    <tr>\n",
       "      <th>2</th>\n",
       "      <td>Wicke Norbert</td>\n",
       "      <td>Mühlhausen /Thüringen</td>\n",
       "      <td>03601 873460</td>\n",
       "      <td>99974</td>\n",
       "      <td>Ammerstr. 12 99974 Mühlhausen /Thüringen</td>\n",
       "    </tr>\n",
       "    <tr>\n",
       "      <th>3</th>\n",
       "      <td>F &amp; W Fahrschule GmbH</td>\n",
       "      <td>Mühlhausen /Thüringen</td>\n",
       "      <td>03601 812505</td>\n",
       "      <td>99974</td>\n",
       "      <td>Röblingstr. 16 99974 Mühlhausen /Thüringen</td>\n",
       "    </tr>\n",
       "    <tr>\n",
       "      <th>4</th>\n",
       "      <td>Michael Hain</td>\n",
       "      <td>Mühlhausen /Thüringen</td>\n",
       "      <td>03601 443024</td>\n",
       "      <td>99974</td>\n",
       "      <td>Weinbergstr. 39 99974 Mühlhausen /Thüringen</td>\n",
       "    </tr>\n",
       "    <tr>\n",
       "      <th>...</th>\n",
       "      <td>...</td>\n",
       "      <td>...</td>\n",
       "      <td>...</td>\n",
       "      <td>...</td>\n",
       "      <td>...</td>\n",
       "    </tr>\n",
       "    <tr>\n",
       "      <th>11851</th>\n",
       "      <td>Fahrschule A.Jaensch Inh. Roland Horn</td>\n",
       "      <td>Dresden</td>\n",
       "      <td>0351 8480358</td>\n",
       "      <td>01129</td>\n",
       "      <td>Trachenberger Str. 14 01129 Dresden</td>\n",
       "    </tr>\n",
       "    <tr>\n",
       "      <th>11852</th>\n",
       "      <td>Auguszt, The Driving Instructor</td>\n",
       "      <td>Dresden</td>\n",
       "      <td>0351 4906666</td>\n",
       "      <td>01099</td>\n",
       "      <td>Bautzner Str. 56 01099 Dresden</td>\n",
       "    </tr>\n",
       "    <tr>\n",
       "      <th>11853</th>\n",
       "      <td>Fahrschule Lehmann</td>\n",
       "      <td>Dresden</td>\n",
       "      <td>0351 8485372</td>\n",
       "      <td>01139</td>\n",
       "      <td>Franz-Lehmann-Str. 43 01139 Dresden</td>\n",
       "    </tr>\n",
       "    <tr>\n",
       "      <th>11854</th>\n",
       "      <td>Fahrschule Nord Gernot Krakowsky</td>\n",
       "      <td>Dresden</td>\n",
       "      <td>0351 8022221</td>\n",
       "      <td>01099</td>\n",
       "      <td>Bautzner Str. 44 01099 Dresden</td>\n",
       "    </tr>\n",
       "    <tr>\n",
       "      <th>11855</th>\n",
       "      <td>Fahrschule Inh. Glück Michael</td>\n",
       "      <td>Dresden</td>\n",
       "      <td>0351 8490564</td>\n",
       "      <td>01139</td>\n",
       "      <td>Herbststr. 11 01139 Dresden</td>\n",
       "    </tr>\n",
       "  </tbody>\n",
       "</table>\n",
       "<p>11856 rows × 5 columns</p>\n",
       "</div>"
      ],
      "text/plain": [
       "                                 School_Name                   City  \\\n",
       "0                      Fahrschule O & B GmbH  Mühlhausen /Thüringen   \n",
       "1                             Joachim Müller                 Körner   \n",
       "2                              Wicke Norbert  Mühlhausen /Thüringen   \n",
       "3                      F & W Fahrschule GmbH  Mühlhausen /Thüringen   \n",
       "4                               Michael Hain  Mühlhausen /Thüringen   \n",
       "...                                      ...                    ...   \n",
       "11851  Fahrschule A.Jaensch Inh. Roland Horn                Dresden   \n",
       "11852        Auguszt, The Driving Instructor                Dresden   \n",
       "11853                     Fahrschule Lehmann                Dresden   \n",
       "11854       Fahrschule Nord Gernot Krakowsky                Dresden   \n",
       "11855          Fahrschule Inh. Glück Michael                Dresden   \n",
       "\n",
       "      Telefon_Number Postal_Code  \\\n",
       "0       03601 872286       99974   \n",
       "1       036025 50311       99998   \n",
       "2       03601 873460       99974   \n",
       "3       03601 812505       99974   \n",
       "4       03601 443024       99974   \n",
       "...              ...         ...   \n",
       "11851   0351 8480358       01129   \n",
       "11852   0351 4906666       01099   \n",
       "11853   0351 8485372       01139   \n",
       "11854   0351 8022221       01099   \n",
       "11855   0351 8490564       01139   \n",
       "\n",
       "                                             Address  \n",
       "0       Rodemannstr. 11 99974 Mühlhausen /Thüringen   \n",
       "1                          Hauptstr. 7 99998 Körner   \n",
       "2          Ammerstr. 12 99974 Mühlhausen /Thüringen   \n",
       "3        Röblingstr. 16 99974 Mühlhausen /Thüringen   \n",
       "4       Weinbergstr. 39 99974 Mühlhausen /Thüringen   \n",
       "...                                              ...  \n",
       "11851           Trachenberger Str. 14 01129 Dresden   \n",
       "11852                Bautzner Str. 56 01099 Dresden   \n",
       "11853           Franz-Lehmann-Str. 43 01139 Dresden   \n",
       "11854                Bautzner Str. 44 01099 Dresden   \n",
       "11855                   Herbststr. 11 01139 Dresden   \n",
       "\n",
       "[11856 rows x 5 columns]"
      ]
     },
     "execution_count": 254,
     "metadata": {},
     "output_type": "execute_result"
    }
   ],
   "source": [
    "df"
   ]
  },
  {
   "cell_type": "markdown",
   "id": "7f762bc3",
   "metadata": {
    "ExecuteTime": {
     "end_time": "2023-11-16T22:51:45.624942Z",
     "start_time": "2023-11-16T22:51:45.611789Z"
    }
   },
   "source": [
    "### Output in Excel and the download Link\n"
   ]
  },
  {
   "cell_type": "code",
   "execution_count": 255,
   "id": "8ffce83d",
   "metadata": {
    "ExecuteTime": {
     "end_time": "2023-11-16T23:07:53.799979Z",
     "start_time": "2023-11-16T23:07:51.816207Z"
    }
   },
   "outputs": [
    {
     "data": {
      "text/html": [
       "<a href='Driving_Schools_Germany.xlsx' target='_blank'>Driving_Schools_Germany.xlsx</a><br>"
      ],
      "text/plain": [
       "C:\\Users\\Besitzer\\Car Industry Data Scraping\\Driving_Schools_Germany.xlsx"
      ]
     },
     "execution_count": 255,
     "metadata": {},
     "output_type": "execute_result"
    }
   ],
   "source": [
    "df.to_excel('Driving_Schools_Germany.xlsx', index=False)\n",
    "FileLink(r'Driving_Schools_Germany.xlsx')"
   ]
  }
 ],
 "metadata": {
  "kernelspec": {
   "display_name": "Python 3 (ipykernel)",
   "language": "python",
   "name": "python3"
  },
  "language_info": {
   "codemirror_mode": {
    "name": "ipython",
    "version": 3
   },
   "file_extension": ".py",
   "mimetype": "text/x-python",
   "name": "python",
   "nbconvert_exporter": "python",
   "pygments_lexer": "ipython3",
   "version": "3.10.9"
  }
 },
 "nbformat": 4,
 "nbformat_minor": 5
}
