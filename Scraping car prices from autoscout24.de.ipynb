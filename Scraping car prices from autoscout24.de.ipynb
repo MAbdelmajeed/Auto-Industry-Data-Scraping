{
 "cells": [
  {
   "cell_type": "code",
   "execution_count": 73,
   "id": "d146ba64",
   "metadata": {
    "ExecuteTime": {
     "end_time": "2023-11-13T09:14:28.261100Z",
     "start_time": "2023-11-13T09:14:28.251031Z"
    }
   },
   "outputs": [],
   "source": [
    "# loading libraries\n",
    "from bs4 import BeautifulSoup\n",
    "import requests\n",
    "import pandas as pd \n",
    "from IPython.display import FileLink"
   ]
  },
  {
   "cell_type": "code",
   "execution_count": 74,
   "id": "a1249368",
   "metadata": {
    "ExecuteTime": {
     "end_time": "2023-11-13T09:14:30.045783Z",
     "start_time": "2023-11-13T09:14:28.735466Z"
    }
   },
   "outputs": [
    {
     "data": {
      "text/plain": [
       "200"
      ]
     },
     "execution_count": 74,
     "metadata": {},
     "output_type": "execute_result"
    }
   ],
   "source": [
    "# Defining the target link:\n",
    "website ='https://www.autoscout24.de/lst?atype=C&cy=D&desc=0&ocs_listing=include&sort=standard&source=homepage_search-mask&ustate=N%2CU'\n",
    "response = requests.get(website)\n",
    "response.status_code"
   ]
  },
  {
   "cell_type": "code",
   "execution_count": 75,
   "id": "4b9bb908",
   "metadata": {
    "ExecuteTime": {
     "end_time": "2023-11-13T09:14:30.377803Z",
     "start_time": "2023-11-13T09:14:30.045783Z"
    }
   },
   "outputs": [],
   "source": [
    "soup = BeautifulSoup(response.content, 'html.parser')\n",
    "results = soup.find_all('article', {'class': 'cldt-summary-full-item listing-impressions-tracking list-page-item false ListItem_article__ppamD'})\n"
   ]
  },
  {
   "cell_type": "code",
   "execution_count": 76,
   "id": "82a132f6",
   "metadata": {
    "ExecuteTime": {
     "end_time": "2023-11-13T09:14:30.392927Z",
     "start_time": "2023-11-13T09:14:30.379330Z"
    }
   },
   "outputs": [
    {
     "data": {
      "text/plain": [
       "20"
      ]
     },
     "execution_count": 76,
     "metadata": {},
     "output_type": "execute_result"
    }
   ],
   "source": [
    "# Checking how many containers per page, do we receive via the connection we established with the website:\n",
    "len(results)"
   ]
  },
  {
   "cell_type": "markdown",
   "id": "bcd50712",
   "metadata": {},
   "source": [
    "### Brand"
   ]
  },
  {
   "cell_type": "code",
   "execution_count": 77,
   "id": "da359eeb",
   "metadata": {
    "ExecuteTime": {
     "end_time": "2023-11-13T09:14:30.627048Z",
     "start_time": "2023-11-13T09:14:30.610916Z"
    }
   },
   "outputs": [
    {
     "data": {
      "text/plain": [
       "'mercedes-benz'"
      ]
     },
     "execution_count": 77,
     "metadata": {},
     "output_type": "execute_result"
    }
   ],
   "source": [
    "results[0].attrs['data-make']"
   ]
  },
  {
   "cell_type": "markdown",
   "id": "a59b092c",
   "metadata": {},
   "source": [
    "### Model"
   ]
  },
  {
   "cell_type": "code",
   "execution_count": 78,
   "id": "13859e1e",
   "metadata": {
    "ExecuteTime": {
     "end_time": "2023-11-13T09:14:31.027664Z",
     "start_time": "2023-11-13T09:14:31.012255Z"
    }
   },
   "outputs": [
    {
     "data": {
      "text/plain": [
       "'fengon'"
      ]
     },
     "execution_count": 78,
     "metadata": {},
     "output_type": "execute_result"
    }
   ],
   "source": [
    "results[6].attrs['data-model']"
   ]
  },
  {
   "cell_type": "markdown",
   "id": "3ef638ec",
   "metadata": {
    "ExecuteTime": {
     "end_time": "2023-11-12T19:12:53.792491Z",
     "start_time": "2023-11-12T19:12:53.760966Z"
    }
   },
   "source": [
    "### Price in Euro"
   ]
  },
  {
   "cell_type": "code",
   "execution_count": 79,
   "id": "6a24e637",
   "metadata": {
    "ExecuteTime": {
     "end_time": "2023-11-13T09:14:31.427531Z",
     "start_time": "2023-11-13T09:14:31.411859Z"
    }
   },
   "outputs": [
    {
     "data": {
      "text/plain": [
       "'5899'"
      ]
     },
     "execution_count": 79,
     "metadata": {},
     "output_type": "execute_result"
    }
   ],
   "source": [
    "results[0].attrs['data-price']"
   ]
  },
  {
   "cell_type": "markdown",
   "id": "5c8d1240",
   "metadata": {},
   "source": [
    "### Kilometer"
   ]
  },
  {
   "cell_type": "code",
   "execution_count": 80,
   "id": "f50fa76d",
   "metadata": {
    "ExecuteTime": {
     "end_time": "2023-11-13T09:14:31.840625Z",
     "start_time": "2023-11-13T09:14:31.823165Z"
    }
   },
   "outputs": [
    {
     "data": {
      "text/plain": [
       "'118000'"
      ]
     },
     "execution_count": 80,
     "metadata": {},
     "output_type": "execute_result"
    }
   ],
   "source": [
    "results[0].attrs['data-mileage']"
   ]
  },
  {
   "cell_type": "markdown",
   "id": "47a00e5b",
   "metadata": {},
   "source": [
    "### First registration"
   ]
  },
  {
   "cell_type": "code",
   "execution_count": 81,
   "id": "c70ac87b",
   "metadata": {
    "ExecuteTime": {
     "end_time": "2023-11-13T09:14:32.260866Z",
     "start_time": "2023-11-13T09:14:32.228595Z"
    }
   },
   "outputs": [
    {
     "data": {
      "text/plain": [
       "'07-2011'"
      ]
     },
     "execution_count": 81,
     "metadata": {},
     "output_type": "execute_result"
    }
   ],
   "source": [
    "results[0].attrs['data-first-registration']"
   ]
  },
  {
   "cell_type": "markdown",
   "id": "c3ccd7a5",
   "metadata": {},
   "source": [
    "### Dealer Country"
   ]
  },
  {
   "cell_type": "code",
   "execution_count": 82,
   "id": "4f2726cd",
   "metadata": {
    "ExecuteTime": {
     "end_time": "2023-11-13T09:14:32.678476Z",
     "start_time": "2023-11-13T09:14:32.664548Z"
    }
   },
   "outputs": [
    {
     "data": {
      "text/plain": [
       "'d'"
      ]
     },
     "execution_count": 82,
     "metadata": {},
     "output_type": "execute_result"
    }
   ],
   "source": [
    "results[0].attrs['data-listing-country']"
   ]
  },
  {
   "cell_type": "markdown",
   "id": "943260f0",
   "metadata": {},
   "source": [
    "### Dealer Zipcode"
   ]
  },
  {
   "cell_type": "code",
   "execution_count": 83,
   "id": "e917766e",
   "metadata": {
    "ExecuteTime": {
     "end_time": "2023-11-13T09:14:33.093581Z",
     "start_time": "2023-11-13T09:14:33.077505Z"
    }
   },
   "outputs": [
    {
     "data": {
      "text/plain": [
       "'93326'"
      ]
     },
     "execution_count": 83,
     "metadata": {},
     "output_type": "execute_result"
    }
   ],
   "source": [
    "results[0].attrs['data-listing-zip-code']"
   ]
  },
  {
   "cell_type": "markdown",
   "id": "dcb448c7",
   "metadata": {},
   "source": [
    "### Price Label\n",
    "\n"
   ]
  },
  {
   "cell_type": "code",
   "execution_count": 84,
   "id": "a10f1c70",
   "metadata": {
    "ExecuteTime": {
     "end_time": "2023-11-13T09:14:33.494123Z",
     "start_time": "2023-11-13T09:14:33.478559Z"
    }
   },
   "outputs": [
    {
     "data": {
      "text/plain": [
       "'top-price'"
      ]
     },
     "execution_count": 84,
     "metadata": {},
     "output_type": "execute_result"
    }
   ],
   "source": [
    "results[0].attrs['data-price-label']"
   ]
  },
  {
   "cell_type": "markdown",
   "id": "0410a2ca",
   "metadata": {},
   "source": [
    "### Dealer Name\n"
   ]
  },
  {
   "cell_type": "code",
   "execution_count": 85,
   "id": "2bfef410",
   "metadata": {
    "ExecuteTime": {
     "end_time": "2023-11-13T09:14:33.875374Z",
     "start_time": "2023-11-13T09:14:33.862006Z"
    }
   },
   "outputs": [
    {
     "data": {
      "text/plain": [
       "'Autohaus Astaller GmbH(60)'"
      ]
     },
     "execution_count": 85,
     "metadata": {},
     "output_type": "execute_result"
    }
   ],
   "source": [
    "results[0].find('span', {'class':'SellerInfo_name__yjUE6'}).get_text()\n"
   ]
  },
  {
   "cell_type": "markdown",
   "id": "2a328774",
   "metadata": {
    "ExecuteTime": {
     "end_time": "2023-11-12T19:15:50.892104Z",
     "start_time": "2023-11-12T19:15:50.875109Z"
    }
   },
   "source": [
    "### Dealer Rating"
   ]
  },
  {
   "cell_type": "code",
   "execution_count": 86,
   "id": "c6285dc9",
   "metadata": {
    "ExecuteTime": {
     "end_time": "2023-11-13T09:14:34.260770Z",
     "start_time": "2023-11-13T09:14:34.244764Z"
    }
   },
   "outputs": [
    {
     "data": {
      "text/plain": [
       "'0'"
      ]
     },
     "execution_count": 86,
     "metadata": {},
     "output_type": "execute_result"
    }
   ],
   "source": [
    "#The result should be cleanded, using the follwing formula >>> 5-(5*(result/100))\n",
    "(lambda x: x.get('style').split('--fill-ratio:')[1].split('%')[0] if x else None)(results[0].find('span', {'class': 'BlackStars_wrapper__VE6fZ'}))\n",
    "\n",
    "\n"
   ]
  },
  {
   "cell_type": "markdown",
   "id": "bf59266d",
   "metadata": {},
   "source": [
    "### Dealer Adress\n",
    " "
   ]
  },
  {
   "cell_type": "code",
   "execution_count": 87,
   "id": "cfe06c6a",
   "metadata": {
    "ExecuteTime": {
     "end_time": "2023-11-13T09:14:34.660725Z",
     "start_time": "2023-11-13T09:14:34.630131Z"
    }
   },
   "outputs": [
    {
     "data": {
      "text/plain": [
       "'. Verkauf • DE-93326 Abensberg'"
      ]
     },
     "execution_count": 87,
     "metadata": {},
     "output_type": "execute_result"
    }
   ],
   "source": [
    "results[0].find('span', {'class':'SellerInfo_address__txoNV'}).get_text()\n"
   ]
  },
  {
   "cell_type": "markdown",
   "id": "13963616",
   "metadata": {},
   "source": [
    "### Gear type\n"
   ]
  },
  {
   "cell_type": "code",
   "execution_count": 88,
   "id": "3d7946c5",
   "metadata": {
    "ExecuteTime": {
     "end_time": "2023-11-13T09:14:35.059977Z",
     "start_time": "2023-11-13T09:14:35.032246Z"
    }
   },
   "outputs": [
    {
     "data": {
      "text/plain": [
       "'Schaltgetriebe'"
      ]
     },
     "execution_count": 88,
     "metadata": {},
     "output_type": "execute_result"
    }
   ],
   "source": [
    "results[0].find_all('span', {'class': 'VehicleDetailTable_item__koEV4'})[1].svg.next_sibling.strip()"
   ]
  },
  {
   "cell_type": "markdown",
   "id": "bb34a65b",
   "metadata": {},
   "source": [
    "###  Fuel\n"
   ]
  },
  {
   "cell_type": "code",
   "execution_count": 89,
   "id": "58ca40d0",
   "metadata": {
    "ExecuteTime": {
     "end_time": "2023-11-13T09:14:35.443285Z",
     "start_time": "2023-11-13T09:14:35.427286Z"
    }
   },
   "outputs": [
    {
     "data": {
      "text/plain": [
       "'Diesel'"
      ]
     },
     "execution_count": 89,
     "metadata": {},
     "output_type": "execute_result"
    }
   ],
   "source": [
    "results[0].find_all('span', {'class': 'VehicleDetailTable_item__koEV4'})[3].svg.next_sibling.strip()"
   ]
  },
  {
   "cell_type": "markdown",
   "id": "cb89f35d",
   "metadata": {},
   "source": [
    "###  Reviews"
   ]
  },
  {
   "cell_type": "code",
   "execution_count": 90,
   "id": "94a1822d",
   "metadata": {
    "ExecuteTime": {
     "end_time": "2023-11-13T09:14:35.843990Z",
     "start_time": "2023-11-13T09:14:35.811038Z"
    }
   },
   "outputs": [
    {
     "data": {
      "text/plain": [
       "'60'"
      ]
     },
     "execution_count": 90,
     "metadata": {},
     "output_type": "execute_result"
    }
   ],
   "source": [
    "(lambda x: x.next_sibling.strip('()') if x else None)(results[0].find('span', class_='BlackStars_wrapper__VE6fZ'))"
   ]
  },
  {
   "cell_type": "markdown",
   "id": "aebce501",
   "metadata": {},
   "source": [
    "# Putting everything together"
   ]
  },
  {
   "cell_type": "code",
   "execution_count": 91,
   "id": "2aef43e5",
   "metadata": {
    "ExecuteTime": {
     "end_time": "2023-11-13T09:14:36.260701Z",
     "start_time": "2023-11-13T09:14:36.213263Z"
    }
   },
   "outputs": [],
   "source": [
    "Brand = []\n",
    "Model = []\n",
    "Price = []\n",
    "Kilometer = []\n",
    "registration = []\n",
    "Dealer_Country = []\n",
    "Dealer_Zipcode = []\n",
    "Price_Label = []\n",
    "Dealer_Name = []\n",
    "Dealer_Rating = []\n",
    "Dealer_Adress = []\n",
    "Gear_type = [] \n",
    "Fuel = []\n",
    "Reviews = []\n",
    "\n",
    "\n",
    "\n",
    "for result in results:\n",
    "    \n",
    "    # Brand\n",
    "    try:\n",
    "        Brand.append(result.attrs['data-make']) \n",
    "    except:\n",
    "        Brand.append('n/a')\n",
    "    \n",
    "    # Model\n",
    "    try:\n",
    "        Model.append(result.attrs['data-model'])\n",
    "    except:\n",
    "        Model.append('n/a')\n",
    "    \n",
    "    # Price\n",
    "    try:\n",
    "        Price.append(result.attrs['data-price'])\n",
    "    except:\n",
    "        Price.append('n/a')\n",
    "        \n",
    "    # Kilometer\n",
    "    try:\n",
    "        Kilometer.append(result.attrs['data-mileage'])\n",
    "    except:\n",
    "        Kilometer.append('n/a')\n",
    "    \n",
    "    # registration\n",
    "    try:\n",
    "        registration.append(result.attrs['data-first-registration'])\n",
    "    except:\n",
    "        registration.append('n/a')\n",
    "    \n",
    "    #Dealer_Country \n",
    "    try:\n",
    "        Dealer_Country.append(result.attrs['data-listing-country'])\n",
    "    except:\n",
    "        Dealer_Country.append('n/a')\n",
    "        \n",
    "   #Dealer_Zipcode \n",
    "    try:\n",
    "        Dealer_Zipcode.append(result.attrs['data-listing-zip-code'])\n",
    "    except:\n",
    "        Dealer_Zipcode.append('n/a')\n",
    "        \n",
    "        \n",
    "   #Price_Label \n",
    "    try:\n",
    "        Price_Label.append(result.attrs['data-price-label'])\n",
    "    except:\n",
    "        Price_Label.append('n/a')\n",
    "        \n",
    "        \n",
    "   #Dealer_Name \n",
    "    try:\n",
    "        Dealer_Name.append(result.find('span', {'class':'SellerInfo_name__yjUE6'}).get_text())\n",
    "    except:\n",
    "        Dealer_Name.append('n/a')\n",
    "        \n",
    "        \n",
    "   #Dealer_Rating \n",
    "    try:\n",
    "        Dealer_Rating.append((lambda x: x.get('style').split('--fill-ratio:')[1].split('%')[0] if x else None)(result.find('span', {'class': 'BlackStars_wrapper__VE6fZ'})))\n",
    "    except:\n",
    "        Dealer_Rating.append('n/a')\n",
    "        \n",
    "        \n",
    "   #Dealer_Adress \n",
    "    try:\n",
    "        Dealer_Adress.append(result.find('span', {'class':'SellerInfo_address__txoNV'}).get_text())\n",
    "    except:\n",
    "        Dealer_Adress.append('n/a')\n",
    "        \n",
    "   #Gear_type \n",
    "    try:\n",
    "        Gear_type.append(result.find_all('span', {'class': 'VehicleDetailTable_item__koEV4'})[1].svg.next_sibling.strip())\n",
    "    except:\n",
    "        Gear_type.append('n/a')\n",
    "        \n",
    "        \n",
    "   #Fuel \n",
    "    try:\n",
    "        Fuel.append(result.find_all('span', {'class': 'VehicleDetailTable_item__koEV4'})[3].svg.next_sibling.strip())\n",
    "    except:\n",
    "        Fuel.append('n/a')\n",
    "        \n",
    "   #Reviews \n",
    "    try:\n",
    "        Reviews.append((lambda x: x.next_sibling.strip('()') if x else None)(result.find('span', class_='BlackStars_wrapper__VE6fZ')))\n",
    "    except:\n",
    "        Reviews.append('n/a')"
   ]
  },
  {
   "cell_type": "markdown",
   "id": "f7ae03be",
   "metadata": {},
   "source": [
    "### Create Pandas Dataframe"
   ]
  },
  {
   "cell_type": "code",
   "execution_count": 92,
   "id": "8a9d6805",
   "metadata": {
    "ExecuteTime": {
     "end_time": "2023-11-13T09:14:36.627279Z",
     "start_time": "2023-11-13T09:14:36.597107Z"
    }
   },
   "outputs": [],
   "source": [
    "# dictionary\n",
    "car_dealer = pd.DataFrame({'Brand': Brand, 'Model':Model, 'Price':Price,\n",
    "                                'Kilometer': Kilometer, 'registration': registration, 'Dealer_Country': Dealer_Country, 'Dealer_Zipcode': Dealer_Zipcode, 'Price_Label': Price_Label, 'Dealer_Name': Dealer_Name, 'Dealer_Rating': Dealer_Rating, 'Dealer_Adress': Dealer_Adress\n",
    "                          , 'Gear_type': Gear_type, 'Fuel': Fuel, 'Reviews': Reviews})"
   ]
  },
  {
   "cell_type": "markdown",
   "id": "ece89b4b",
   "metadata": {},
   "source": [
    "### Output in Excel and the download Link\n"
   ]
  },
  {
   "cell_type": "code",
   "execution_count": 93,
   "id": "10b5cf0c",
   "metadata": {
    "ExecuteTime": {
     "end_time": "2023-11-13T09:14:37.077316Z",
     "start_time": "2023-11-13T09:14:37.013651Z"
    }
   },
   "outputs": [
    {
     "data": {
      "text/html": [
       "<a href='car_dealer_single_page.xlsx' target='_blank'>car_dealer_single_page.xlsx</a><br>"
      ],
      "text/plain": [
       "C:\\Users\\Besitzer\\GitHub\\car_dealer_single_page.xlsx"
      ]
     },
     "execution_count": 93,
     "metadata": {},
     "output_type": "execute_result"
    }
   ],
   "source": [
    "car_dealer.to_excel('car_dealer_single_page.xlsx', index=False)\n",
    "\n",
    "FileLink(r'car_dealer_single_page.xlsx')\n"
   ]
  },
  {
   "cell_type": "markdown",
   "id": "003464dc",
   "metadata": {},
   "source": [
    "### Pagination"
   ]
  },
  {
   "cell_type": "code",
   "execution_count": 94,
   "id": "1af900bf",
   "metadata": {
    "ExecuteTime": {
     "end_time": "2023-11-13T09:14:54.609042Z",
     "start_time": "2023-11-13T09:14:37.428235Z"
    }
   },
   "outputs": [],
   "source": [
    "\n",
    "Brand = []\n",
    "Model = []\n",
    "Price = []\n",
    "Kilometer = []\n",
    "registration = []\n",
    "Dealer_Country = []\n",
    "Dealer_Zipcode = []\n",
    "Price_Label = []\n",
    "Dealer_Name = []\n",
    "Dealer_Rating = []\n",
    "Dealer_Adress = []\n",
    "Gear_type = []\n",
    "Fuel = []\n",
    "Reviews = []\n",
    "\n",
    "for i in range(1, 21):\n",
    "\n",
    "    # website in variable\n",
    "    website = 'https://www.autoscout24.de/lst?atype=C&cy=D&desc=0&ocs_listing=include&page=' + str(i) + '&search_id=z6bsm6366f&sort=standard&source=listpage_pagination&ustate=N%2CU'\n",
    "\n",
    "\n",
    "\n",
    "\n",
    "    # request to website\n",
    "    response = requests.get(website)\n",
    "\n",
    "    # soup object\n",
    "    soup = BeautifulSoup(response.content, 'html.parser')\n",
    "\n",
    "    # results\n",
    "    results = soup.find_all('article',\n",
    "                           {'class': 'cldt-summary-full-item listing-impressions-tracking list-page-item false ListItem_article__ppamD'})\n",
    "\n",
    "    # loop through results\n",
    "    for result in results:\n",
    "\n",
    "        # Brand\n",
    "        try:\n",
    "            Brand.append(result.attrs['data-make'])\n",
    "        except:\n",
    "            Brand.append('n/a')\n",
    "\n",
    "        # Model\n",
    "        try:\n",
    "            Model.append(result.attrs['data-model'])\n",
    "        except:\n",
    "            Model.append('n/a')\n",
    "\n",
    "        # Price\n",
    "        try:\n",
    "            Price.append(result.attrs['data-price'])\n",
    "        except:\n",
    "            Price.append('n/a')\n",
    "\n",
    "        # Kilometer\n",
    "        try:\n",
    "            Kilometer.append(result.attrs['data-mileage'])\n",
    "        except:\n",
    "            Kilometer.append('n/a')\n",
    "\n",
    "        # registration\n",
    "        try:\n",
    "            registration.append(result.attrs['data-first-registration'])\n",
    "        except:\n",
    "            registration.append('n/a')\n",
    "\n",
    "        # Dealer_Country\n",
    "        try:\n",
    "            Dealer_Country.append(result.attrs['data-listing-country'])\n",
    "        except:\n",
    "            Dealer_Country.append('n/a')\n",
    "\n",
    "        # Dealer_Zipcode\n",
    "        try:\n",
    "            Dealer_Zipcode.append(result.attrs['data-listing-zip-code'])\n",
    "        except:\n",
    "            Dealer_Zipcode.append('n/a')\n",
    "\n",
    "        # Price_Label\n",
    "        try:\n",
    "            Price_Label.append(result.attrs['data-price-label'])\n",
    "        except:\n",
    "            Price_Label.append('n/a')\n",
    "\n",
    "        # Dealer_Name\n",
    "        try:\n",
    "            Dealer_Name.append(result.find('span', {'class': 'SellerInfo_name__yjUE6'}).get_text())\n",
    "        except:\n",
    "            Dealer_Name.append('n/a')\n",
    "\n",
    "        # Dealer_Rating\n",
    "        try:\n",
    "            Dealer_Rating.append(\n",
    "                (lambda x: x.get('style').split('--fill-ratio:')[1].split('%')[0] if x else None)(result.find('span',\n",
    "                                                                                                             {\n",
    "                                                                                                                 'class': 'BlackStars_wrapper__VE6fZ'})))\n",
    "        except:\n",
    "            Dealer_Rating.append('n/a')\n",
    "\n",
    "        # Dealer_Adress\n",
    "        try:\n",
    "            Dealer_Adress.append(result.find('span', {'class': 'SellerInfo_address__txoNV'}).get_text())\n",
    "        except:\n",
    "            Dealer_Adress.append('n/a')\n",
    "\n",
    "        # Gear_type\n",
    "        try:\n",
    "            Gear_type.append(result.find_all('span', {'class': 'VehicleDetailTable_item__koEV4'})[1].svg.next_sibling.strip())\n",
    "        except:\n",
    "            Gear_type.append('n/a')\n",
    "\n",
    "        # Fuel\n",
    "        try:\n",
    "            Fuel.append(result.find_all('span', {'class': 'VehicleDetailTable_item__koEV4'})[3].svg.next_sibling.strip())\n",
    "        except:\n",
    "            Fuel.append('n/a')\n",
    "\n",
    "        # Reviews\n",
    "        try:\n",
    "            Reviews.append((lambda x: x.next_sibling.strip('()') if x else None)(result.find('span', class_='BlackStars_wrapper__VE6fZ')))\n",
    "        except:\n",
    "            Reviews.append('n/a')\n"
   ]
  },
  {
   "cell_type": "code",
   "execution_count": 95,
   "id": "5085d94c",
   "metadata": {
    "ExecuteTime": {
     "end_time": "2023-11-13T09:14:54.626851Z",
     "start_time": "2023-11-13T09:14:54.610026Z"
    }
   },
   "outputs": [],
   "source": [
    "# dictionary\n",
    "car_dealer_pages = pd.DataFrame({'Brand': Brand, 'Model':Model, 'Price':Price,\n",
    "                                'Kilometer': Kilometer, 'registration': registration, 'Dealer_Country': Dealer_Country, 'Dealer_Zipcode': Dealer_Zipcode, 'Price_Label': Price_Label, 'Dealer_Name': Dealer_Name, 'Dealer_Rating': Dealer_Rating, 'Dealer_Adress': Dealer_Adress\n",
    "                          , 'Gear_type': Gear_type, 'Fuel': Fuel, 'Reviews': Reviews})"
   ]
  },
  {
   "cell_type": "markdown",
   "id": "0a03650d",
   "metadata": {},
   "source": [
    "### Output in Excel and the download Link\n"
   ]
  },
  {
   "cell_type": "code",
   "execution_count": 96,
   "id": "d963c171",
   "metadata": {
    "ExecuteTime": {
     "end_time": "2023-11-13T09:14:54.826404Z",
     "start_time": "2023-11-13T09:14:54.631745Z"
    }
   },
   "outputs": [
    {
     "data": {
      "text/html": [
       "<a href='car_dealer_multi_pages.xlsx' target='_blank'>car_dealer_multi_pages.xlsx</a><br>"
      ],
      "text/plain": [
       "C:\\Users\\Besitzer\\GitHub\\car_dealer_multi_pages.xlsx"
      ]
     },
     "execution_count": 96,
     "metadata": {},
     "output_type": "execute_result"
    }
   ],
   "source": [
    "car_dealer_pages.to_excel('car_dealer_multi_pages.xlsx', index=False)\n",
    "FileLink(r'car_dealer_multi_pages.xlsx')"
   ]
  }
 ],
 "metadata": {
  "kernelspec": {
   "display_name": "Python 3 (ipykernel)",
   "language": "python",
   "name": "python3"
  },
  "language_info": {
   "codemirror_mode": {
    "name": "ipython",
    "version": 3
   },
   "file_extension": ".py",
   "mimetype": "text/x-python",
   "name": "python",
   "nbconvert_exporter": "python",
   "pygments_lexer": "ipython3",
   "version": "3.10.9"
  }
 },
 "nbformat": 4,
 "nbformat_minor": 5
}
